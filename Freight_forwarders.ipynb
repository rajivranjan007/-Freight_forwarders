{
 "cells": [
  {
   "cell_type": "code",
   "execution_count": 1,
   "id": "155492b5",
   "metadata": {
    "ExecuteTime": {
     "end_time": "2023-04-18T13:00:21.412793Z",
     "start_time": "2023-04-18T13:00:20.297972Z"
    }
   },
   "outputs": [],
   "source": [
    "import numpy as np\n",
    "import pandas as pd"
   ]
  },
  {
   "cell_type": "markdown",
   "id": "4df44762",
   "metadata": {
    "ExecuteTime": {
     "end_time": "2023-04-18T12:50:29.221662Z",
     "start_time": "2023-04-18T12:50:29.202711Z"
    }
   },
   "source": [
    "# Data acquisition"
   ]
  },
  {
   "cell_type": "code",
   "execution_count": 11,
   "id": "6a225d54",
   "metadata": {
    "ExecuteTime": {
     "end_time": "2023-04-18T13:06:53.580425Z",
     "start_time": "2023-04-18T13:06:53.560477Z"
    }
   },
   "outputs": [],
   "source": [
    "#link of given datasheet"
   ]
  },
  {
   "cell_type": "markdown",
   "id": "583a1727",
   "metadata": {},
   "source": [
    "https://docs.google.com/spreadsheets/d/19AODhlOM8nPObKnv1aDYtChmYxqfRg8A6TIsOqDupwo/edit?usp=sharing"
   ]
  },
  {
   "cell_type": "code",
   "execution_count": 2,
   "id": "0f432946",
   "metadata": {
    "ExecuteTime": {
     "end_time": "2023-04-18T13:00:21.474007Z",
     "start_time": "2023-04-18T13:00:21.424769Z"
    }
   },
   "outputs": [],
   "source": [
    "df=pd.read_csv(\"Botswana_Data_Import_Data.csv\",header=1)"
   ]
  },
  {
   "cell_type": "code",
   "execution_count": 3,
   "id": "4f50c95c",
   "metadata": {
    "ExecuteTime": {
     "end_time": "2023-04-18T13:00:21.505740Z",
     "start_time": "2023-04-18T13:00:21.479911Z"
    }
   },
   "outputs": [],
   "source": [
    "pd.set_option('display.max_columns', None)"
   ]
  },
  {
   "cell_type": "code",
   "execution_count": 4,
   "id": "b6b2999b",
   "metadata": {
    "ExecuteTime": {
     "end_time": "2023-04-18T13:00:21.569073Z",
     "start_time": "2023-04-18T13:00:21.517719Z"
    },
    "scrolled": true
   },
   "outputs": [
    {
     "data": {
      "text/html": [
       "<div>\n",
       "<style scoped>\n",
       "    .dataframe tbody tr th:only-of-type {\n",
       "        vertical-align: middle;\n",
       "    }\n",
       "\n",
       "    .dataframe tbody tr th {\n",
       "        vertical-align: top;\n",
       "    }\n",
       "\n",
       "    .dataframe thead th {\n",
       "        text-align: right;\n",
       "    }\n",
       "</style>\n",
       "<table border=\"1\" class=\"dataframe\">\n",
       "  <thead>\n",
       "    <tr style=\"text-align: right;\">\n",
       "      <th></th>\n",
       "      <th>Date</th>\n",
       "      <th>Importer</th>\n",
       "      <th>Importer Address</th>\n",
       "      <th>Exporter</th>\n",
       "      <th>Declarant</th>\n",
       "      <th>Country</th>\n",
       "      <th>ORIGIN Origin Country</th>\n",
       "      <th>Origin Country</th>\n",
       "      <th>Export Country</th>\n",
       "      <th>Destination Country</th>\n",
       "      <th>Port Of Entry</th>\n",
       "      <th>Place Of Discharge</th>\n",
       "      <th>Hs Code</th>\n",
       "      <th>Hs Code Description</th>\n",
       "      <th>Commercial Description</th>\n",
       "      <th>Gross Weight</th>\n",
       "      <th>Gross Weight UOM</th>\n",
       "      <th>Net Weight</th>\n",
       "      <th>Net Weight UOM</th>\n",
       "      <th>Quantity</th>\n",
       "      <th>Quantity UOM</th>\n",
       "      <th>No Of Packages</th>\n",
       "      <th>Package Type</th>\n",
       "      <th>Customs Value Bwp</th>\n",
       "      <th>Customs value USD</th>\n",
       "      <th>Declaration Office</th>\n",
       "      <th>Invoice Amount BWP</th>\n",
       "      <th>Freight BWP</th>\n",
       "      <th>Vat</th>\n",
       "      <th>Chapter</th>\n",
       "      <th>Heading</th>\n",
       "      <th>Subheading</th>\n",
       "      <th>Month</th>\n",
       "      <th>Year</th>\n",
       "    </tr>\n",
       "  </thead>\n",
       "  <tbody>\n",
       "    <tr>\n",
       "      <th>0</th>\n",
       "      <td>01-Aug-2021</td>\n",
       "      <td>WOOLWORTHS (BOTSWANA) (PROPRIETARY) LIMITED</td>\n",
       "      <td>P O BOX 500017</td>\n",
       "      <td>WOOLWORTHS</td>\n",
       "      <td>WOOLWORTHS (BOTSWANA) (PROPRIETARY) LIMITED</td>\n",
       "      <td>BOTSWANA</td>\n",
       "      <td>SOUTH AFRICA</td>\n",
       "      <td>South Africa</td>\n",
       "      <td>South Africa</td>\n",
       "      <td>Botswana</td>\n",
       "      <td>Tlokweng Gate</td>\n",
       "      <td>Tlokweng Gate</td>\n",
       "      <td>3063900</td>\n",
       "      <td>Other, including flour, meals and pellets of c...</td>\n",
       "      <td>Other, including flours, meals and pellets of ...</td>\n",
       "      <td>16.76</td>\n",
       "      <td>KGM</td>\n",
       "      <td>16.76</td>\n",
       "      <td>KGM</td>\n",
       "      <td>30.00</td>\n",
       "      <td>KGM</td>\n",
       "      <td>30</td>\n",
       "      <td>EACH</td>\n",
       "      <td>1808.92</td>\n",
       "      <td>163.66</td>\n",
       "      <td>Tlokweng Gate</td>\n",
       "      <td>109753.60</td>\n",
       "      <td>33767.55</td>\n",
       "      <td>331.15</td>\n",
       "      <td>3</td>\n",
       "      <td>306</td>\n",
       "      <td>30639</td>\n",
       "      <td>August</td>\n",
       "      <td>2021</td>\n",
       "    </tr>\n",
       "    <tr>\n",
       "      <th>1</th>\n",
       "      <td>04-Aug-2021</td>\n",
       "      <td>S.R.J. ENTERPRISES (PROPRIETARY) LIMITED</td>\n",
       "      <td>PO BOX 281</td>\n",
       "      <td>TRUSEAL</td>\n",
       "      <td>GLOBE-TECH INVESTMENTS (PROPRIETARY) LIMITED</td>\n",
       "      <td>BOTSWANA</td>\n",
       "      <td>SOUTH AFRICA</td>\n",
       "      <td>South Africa</td>\n",
       "      <td>South Africa</td>\n",
       "      <td>Botswana</td>\n",
       "      <td>Tlokweng Gate</td>\n",
       "      <td>Tlokweng Gate</td>\n",
       "      <td>40169310</td>\n",
       "      <td>Identifiable as integral parts of industrial m...</td>\n",
       "      <td>SEAL</td>\n",
       "      <td>20.00</td>\n",
       "      <td>KGM</td>\n",
       "      <td>20.00</td>\n",
       "      <td>KGM</td>\n",
       "      <td>20000.00</td>\n",
       "      <td>KGM</td>\n",
       "      <td>20000</td>\n",
       "      <td>KEG</td>\n",
       "      <td>2370.89</td>\n",
       "      <td>214.50</td>\n",
       "      <td>Tlokweng Gate</td>\n",
       "      <td>2370.89</td>\n",
       "      <td>118.54</td>\n",
       "      <td>348.50</td>\n",
       "      <td>40</td>\n",
       "      <td>4016</td>\n",
       "      <td>401693</td>\n",
       "      <td>August</td>\n",
       "      <td>2021</td>\n",
       "    </tr>\n",
       "    <tr>\n",
       "      <th>2</th>\n",
       "      <td>10-Aug-2021</td>\n",
       "      <td>VISITION ROYAL INVESTMENT (PROPRIETARY0 LIMITED</td>\n",
       "      <td>P O BOX 550296</td>\n",
       "      <td>YIWU BORZ E-COMMERCE CO LTD</td>\n",
       "      <td>NOTCHABOVE (PROPRIETARY) LIMITED</td>\n",
       "      <td>BOTSWANA</td>\n",
       "      <td>CHINA</td>\n",
       "      <td>China</td>\n",
       "      <td>China</td>\n",
       "      <td>Botswana</td>\n",
       "      <td>GABCON</td>\n",
       "      <td>GABCON</td>\n",
       "      <td>84688000</td>\n",
       "      <td>Other machinery and apparatus</td>\n",
       "      <td>MINI ELECTRIC WELDING MACHINE</td>\n",
       "      <td>3.00</td>\n",
       "      <td>KGM</td>\n",
       "      <td>3.00</td>\n",
       "      <td>KGM</td>\n",
       "      <td>1.00</td>\n",
       "      <td>EA</td>\n",
       "      <td>1</td>\n",
       "      <td>CARTONS</td>\n",
       "      <td>46.04</td>\n",
       "      <td>4.17</td>\n",
       "      <td>GABCON</td>\n",
       "      <td>122562.93</td>\n",
       "      <td>59375.32</td>\n",
       "      <td>9.55</td>\n",
       "      <td>84</td>\n",
       "      <td>8468</td>\n",
       "      <td>846880</td>\n",
       "      <td>August</td>\n",
       "      <td>2021</td>\n",
       "    </tr>\n",
       "    <tr>\n",
       "      <th>3</th>\n",
       "      <td>03-Aug-2021</td>\n",
       "      <td>BUILDERS TRADE DEPOT(BOTSWANA)(PTY)LTD</td>\n",
       "      <td>P O BOX 70021</td>\n",
       "      <td>GYPROC SAINT GTOBAIN</td>\n",
       "      <td>HYPER TRANSPORT (PROPRIETARY) LIMITED</td>\n",
       "      <td>BOTSWANA</td>\n",
       "      <td>SOUTH AFRICA</td>\n",
       "      <td>South Africa</td>\n",
       "      <td>South Africa</td>\n",
       "      <td>Botswana</td>\n",
       "      <td>Ramatlabama Borderpost</td>\n",
       "      <td>Ramatlabama Borderpost</td>\n",
       "      <td>44189900</td>\n",
       "      <td>Other builders' joinery and carpentry of wood,...</td>\n",
       "      <td>CORNICE</td>\n",
       "      <td>5511.42</td>\n",
       "      <td>KGM</td>\n",
       "      <td>5510.42</td>\n",
       "      <td>KGM</td>\n",
       "      <td>5510.42</td>\n",
       "      <td>KGM</td>\n",
       "      <td>13</td>\n",
       "      <td>EACH</td>\n",
       "      <td>31468.00</td>\n",
       "      <td>2846.99</td>\n",
       "      <td>Ramatlabama Borderpost</td>\n",
       "      <td>158701.64</td>\n",
       "      <td>10190.57</td>\n",
       "      <td>4688.40</td>\n",
       "      <td>44</td>\n",
       "      <td>4418</td>\n",
       "      <td>441899</td>\n",
       "      <td>August</td>\n",
       "      <td>2021</td>\n",
       "    </tr>\n",
       "    <tr>\n",
       "      <th>4</th>\n",
       "      <td>11-Aug-2021</td>\n",
       "      <td>BOTGOOD INVESTMENTS (PRPPRIETARY) LIMITED</td>\n",
       "      <td>P.O. Box 50131</td>\n",
       "      <td>JUDYS PRIDE FASHIONS PTY LTD</td>\n",
       "      <td>BMR AGENTS (PROPRIETARY) LIMITED</td>\n",
       "      <td>BOTSWANA</td>\n",
       "      <td>SOUTH AFRICA</td>\n",
       "      <td>South Africa</td>\n",
       "      <td>South Africa</td>\n",
       "      <td>Botswana</td>\n",
       "      <td>Tlokweng Gate</td>\n",
       "      <td>Tlokweng Gate</td>\n",
       "      <td>68129100</td>\n",
       "      <td>Clothing, clothing accessories, footwear and h...</td>\n",
       "      <td>OTHER</td>\n",
       "      <td>40.08</td>\n",
       "      <td>KGM</td>\n",
       "      <td>40.08</td>\n",
       "      <td>KGM</td>\n",
       "      <td>40.08</td>\n",
       "      <td>KGM</td>\n",
       "      <td>17</td>\n",
       "      <td>CARTONS</td>\n",
       "      <td>7233.35</td>\n",
       "      <td>654.42</td>\n",
       "      <td>Tlokweng Gate</td>\n",
       "      <td>7233.35</td>\n",
       "      <td>361.67</td>\n",
       "      <td>1063.30</td>\n",
       "      <td>68</td>\n",
       "      <td>6812</td>\n",
       "      <td>681291</td>\n",
       "      <td>August</td>\n",
       "      <td>2021</td>\n",
       "    </tr>\n",
       "  </tbody>\n",
       "</table>\n",
       "</div>"
      ],
      "text/plain": [
       "          Date                                         Importer  \\\n",
       "0  01-Aug-2021      WOOLWORTHS (BOTSWANA) (PROPRIETARY) LIMITED   \n",
       "1  04-Aug-2021         S.R.J. ENTERPRISES (PROPRIETARY) LIMITED   \n",
       "2  10-Aug-2021  VISITION ROYAL INVESTMENT (PROPRIETARY0 LIMITED   \n",
       "3  03-Aug-2021           BUILDERS TRADE DEPOT(BOTSWANA)(PTY)LTD   \n",
       "4  11-Aug-2021        BOTGOOD INVESTMENTS (PRPPRIETARY) LIMITED   \n",
       "\n",
       "  Importer Address                      Exporter  \\\n",
       "0   P O BOX 500017                    WOOLWORTHS   \n",
       "1       PO BOX 281                       TRUSEAL   \n",
       "2   P O BOX 550296   YIWU BORZ E-COMMERCE CO LTD   \n",
       "3    P O BOX 70021          GYPROC SAINT GTOBAIN   \n",
       "4   P.O. Box 50131  JUDYS PRIDE FASHIONS PTY LTD   \n",
       "\n",
       "                                      Declarant   Country  \\\n",
       "0   WOOLWORTHS (BOTSWANA) (PROPRIETARY) LIMITED  BOTSWANA   \n",
       "1  GLOBE-TECH INVESTMENTS (PROPRIETARY) LIMITED  BOTSWANA   \n",
       "2              NOTCHABOVE (PROPRIETARY) LIMITED  BOTSWANA   \n",
       "3         HYPER TRANSPORT (PROPRIETARY) LIMITED  BOTSWANA   \n",
       "4              BMR AGENTS (PROPRIETARY) LIMITED  BOTSWANA   \n",
       "\n",
       "  ORIGIN Origin Country Origin Country Export Country Destination Country  \\\n",
       "0          SOUTH AFRICA   South Africa   South Africa            Botswana   \n",
       "1          SOUTH AFRICA   South Africa   South Africa            Botswana   \n",
       "2                 CHINA          China          China            Botswana   \n",
       "3          SOUTH AFRICA   South Africa   South Africa            Botswana   \n",
       "4          SOUTH AFRICA   South Africa   South Africa            Botswana   \n",
       "\n",
       "            Port Of Entry      Place Of Discharge   Hs Code  \\\n",
       "0           Tlokweng Gate           Tlokweng Gate   3063900   \n",
       "1           Tlokweng Gate           Tlokweng Gate  40169310   \n",
       "2                  GABCON                  GABCON  84688000   \n",
       "3  Ramatlabama Borderpost  Ramatlabama Borderpost  44189900   \n",
       "4           Tlokweng Gate           Tlokweng Gate  68129100   \n",
       "\n",
       "                                 Hs Code Description  \\\n",
       "0  Other, including flour, meals and pellets of c...   \n",
       "1  Identifiable as integral parts of industrial m...   \n",
       "2                      Other machinery and apparatus   \n",
       "3  Other builders' joinery and carpentry of wood,...   \n",
       "4  Clothing, clothing accessories, footwear and h...   \n",
       "\n",
       "                              Commercial Description  Gross Weight  \\\n",
       "0  Other, including flours, meals and pellets of ...         16.76   \n",
       "1                                               SEAL         20.00   \n",
       "2                      MINI ELECTRIC WELDING MACHINE          3.00   \n",
       "3                                            CORNICE       5511.42   \n",
       "4                                              OTHER         40.08   \n",
       "\n",
       "  Gross Weight UOM  Net Weight Net Weight UOM  Quantity Quantity UOM  \\\n",
       "0              KGM       16.76            KGM     30.00          KGM   \n",
       "1              KGM       20.00            KGM  20000.00          KGM   \n",
       "2              KGM        3.00            KGM      1.00           EA   \n",
       "3              KGM     5510.42            KGM   5510.42          KGM   \n",
       "4              KGM       40.08            KGM     40.08          KGM   \n",
       "\n",
       "   No Of Packages Package Type  Customs Value Bwp  Customs value USD  \\\n",
       "0              30         EACH            1808.92             163.66   \n",
       "1           20000          KEG            2370.89             214.50   \n",
       "2               1      CARTONS              46.04               4.17   \n",
       "3              13         EACH           31468.00            2846.99   \n",
       "4              17      CARTONS            7233.35             654.42   \n",
       "\n",
       "       Declaration Office  Invoice Amount BWP  Freight BWP      Vat  Chapter  \\\n",
       "0           Tlokweng Gate           109753.60     33767.55   331.15        3   \n",
       "1           Tlokweng Gate             2370.89       118.54   348.50       40   \n",
       "2                  GABCON           122562.93     59375.32     9.55       84   \n",
       "3  Ramatlabama Borderpost           158701.64     10190.57  4688.40       44   \n",
       "4           Tlokweng Gate             7233.35       361.67  1063.30       68   \n",
       "\n",
       "   Heading  Subheading   Month  Year  \n",
       "0      306       30639  August  2021  \n",
       "1     4016      401693  August  2021  \n",
       "2     8468      846880  August  2021  \n",
       "3     4418      441899  August  2021  \n",
       "4     6812      681291  August  2021  "
      ]
     },
     "execution_count": 4,
     "metadata": {},
     "output_type": "execute_result"
    }
   ],
   "source": [
    "df.head()"
   ]
  },
  {
   "cell_type": "code",
   "execution_count": 5,
   "id": "2682edab",
   "metadata": {
    "ExecuteTime": {
     "end_time": "2023-04-18T13:00:21.585002Z",
     "start_time": "2023-04-18T13:00:21.574030Z"
    },
    "scrolled": false
   },
   "outputs": [
    {
     "name": "stdout",
     "output_type": "stream",
     "text": [
      "Index(['Date', 'Importer', 'Importer Address', 'Exporter', 'Declarant',\n",
      "       'Country', 'ORIGIN Origin Country', 'Origin Country', 'Export Country',\n",
      "       'Destination Country', 'Port Of Entry', 'Place Of Discharge', 'Hs Code',\n",
      "       'Hs Code Description', 'Commercial Description', 'Gross Weight',\n",
      "       'Gross Weight UOM', 'Net Weight', 'Net Weight UOM', 'Quantity',\n",
      "       'Quantity UOM', 'No Of Packages', 'Package Type', 'Customs Value Bwp',\n",
      "       'Customs value USD', 'Declaration Office', 'Invoice Amount BWP',\n",
      "       'Freight BWP', 'Vat', 'Chapter', 'Heading', 'Subheading', 'Month',\n",
      "       'Year'],\n",
      "      dtype='object')\n"
     ]
    }
   ],
   "source": [
    "print(df.columns)"
   ]
  },
  {
   "cell_type": "code",
   "execution_count": 6,
   "id": "9153d390",
   "metadata": {
    "ExecuteTime": {
     "end_time": "2023-04-18T13:00:21.616929Z",
     "start_time": "2023-04-18T13:00:21.587997Z"
    },
    "scrolled": true
   },
   "outputs": [
    {
     "name": "stdout",
     "output_type": "stream",
     "text": [
      "<class 'pandas.core.frame.DataFrame'>\n",
      "RangeIndex: 11 entries, 0 to 10\n",
      "Data columns (total 34 columns):\n",
      " #   Column                  Non-Null Count  Dtype  \n",
      "---  ------                  --------------  -----  \n",
      " 0   Date                    11 non-null     object \n",
      " 1   Importer                11 non-null     object \n",
      " 2   Importer Address        11 non-null     object \n",
      " 3   Exporter                11 non-null     object \n",
      " 4   Declarant               11 non-null     object \n",
      " 5   Country                 11 non-null     object \n",
      " 6   ORIGIN Origin Country   11 non-null     object \n",
      " 7   Origin Country          11 non-null     object \n",
      " 8   Export Country          11 non-null     object \n",
      " 9   Destination Country     11 non-null     object \n",
      " 10  Port Of Entry           11 non-null     object \n",
      " 11  Place Of Discharge      11 non-null     object \n",
      " 12  Hs Code                 11 non-null     int64  \n",
      " 13  Hs Code Description     11 non-null     object \n",
      " 14  Commercial Description  11 non-null     object \n",
      " 15  Gross Weight            11 non-null     float64\n",
      " 16  Gross Weight UOM        11 non-null     object \n",
      " 17  Net Weight              11 non-null     float64\n",
      " 18  Net Weight UOM          11 non-null     object \n",
      " 19  Quantity                11 non-null     float64\n",
      " 20  Quantity UOM            11 non-null     object \n",
      " 21  No Of Packages          11 non-null     int64  \n",
      " 22  Package Type            11 non-null     object \n",
      " 23  Customs Value Bwp       11 non-null     float64\n",
      " 24  Customs value USD       11 non-null     float64\n",
      " 25  Declaration Office      11 non-null     object \n",
      " 26  Invoice Amount BWP      11 non-null     float64\n",
      " 27  Freight BWP             11 non-null     float64\n",
      " 28  Vat                     11 non-null     float64\n",
      " 29  Chapter                 11 non-null     int64  \n",
      " 30  Heading                 11 non-null     int64  \n",
      " 31  Subheading              11 non-null     int64  \n",
      " 32  Month                   11 non-null     object \n",
      " 33  Year                    11 non-null     int64  \n",
      "dtypes: float64(8), int64(6), object(20)\n",
      "memory usage: 3.0+ KB\n"
     ]
    }
   ],
   "source": [
    "df.info()"
   ]
  },
  {
   "cell_type": "markdown",
   "id": "4701bfc6",
   "metadata": {},
   "source": [
    "# importing library"
   ]
  },
  {
   "cell_type": "code",
   "execution_count": 7,
   "id": "92bff646",
   "metadata": {
    "ExecuteTime": {
     "end_time": "2023-04-18T13:00:23.464602Z",
     "start_time": "2023-04-18T13:00:21.620913Z"
    }
   },
   "outputs": [],
   "source": [
    "from sklearn.cluster import KMeans\n",
    "from sklearn.preprocessing import LabelEncoder\n",
    "import pandas as pd\n",
    "from sklearn.linear_model import LinearRegression"
   ]
  },
  {
   "cell_type": "markdown",
   "id": "c868777d",
   "metadata": {},
   "source": [
    "# Data preprocessing and model training"
   ]
  },
  {
   "cell_type": "code",
   "execution_count": 8,
   "id": "144173f3",
   "metadata": {
    "ExecuteTime": {
     "end_time": "2023-04-18T13:00:24.416358Z",
     "start_time": "2023-04-18T13:00:23.472587Z"
    },
    "scrolled": true
   },
   "outputs": [
    {
     "name": "stderr",
     "output_type": "stream",
     "text": [
      "C:\\ProgramData\\anaconda3\\lib\\site-packages\\sklearn\\cluster\\_kmeans.py:870: FutureWarning: The default value of `n_init` will change from 10 to 'auto' in 1.4. Set the value of `n_init` explicitly to suppress the warning\n",
      "  warnings.warn(\n",
      "C:\\ProgramData\\anaconda3\\lib\\site-packages\\sklearn\\cluster\\_kmeans.py:1382: UserWarning: KMeans is known to have a memory leak on Windows with MKL, when there are less chunks than available threads. You can avoid it by setting the environment variable OMP_NUM_THREADS=1.\n",
      "  warnings.warn(\n",
      "C:\\Users\\rajiv\\AppData\\Local\\Temp\\ipykernel_20540\\3645702636.py:13: ConvergenceWarning: Number of distinct clusters (3) found smaller than n_clusters (5). Possibly due to duplicate points in X.\n",
      "  kmeans = KMeans(n_clusters=5, random_state=0).fit(X)\n"
     ]
    }
   ],
   "source": [
    "\n",
    "# Create a dictionary to map country names to integers\n",
    "country_dict = {country:i for i, country in enumerate(df['Origin Country'].unique())}\n",
    "\n",
    "# Create a dictionary to map destination country names to integers\n",
    "destination_country_dict = {country:i for i, country in enumerate(df['Destination Country'].unique())}\n",
    "\n",
    "\n",
    "\n",
    "# Extract the relevant columns for clustering\n",
    "X = df[['Origin Country', 'Destination Country']].replace(country_dict).replace(destination_country_dict).values\n",
    "\n",
    "# Perform KMeans clustering\n",
    "kmeans = KMeans(n_clusters=5, random_state=0).fit(X)\n",
    "\n",
    "# Add a new column to the dataframe with the cluster labels\n",
    "df['Cluster'] = kmeans.labels_\n",
    "\n",
    "\n",
    "# Train a linear regression model\n",
    "X = df[['Net Weight', 'Quantity', 'Freight BWP']] # Features\n",
    "y = df['Customs value USD'] # Target variable\n",
    "reg = LinearRegression().fit(X, y)\n"
   ]
  },
  {
   "cell_type": "code",
   "execution_count": null,
   "id": "3321cef3",
   "metadata": {},
   "outputs": [],
   "source": []
  },
  {
   "cell_type": "markdown",
   "id": "3c8150c5",
   "metadata": {},
   "source": [
    "Taking input from user for testing"
   ]
  },
  {
   "cell_type": "code",
   "execution_count": null,
   "id": "86a1eeb0",
   "metadata": {},
   "outputs": [],
   "source": []
  },
  {
   "cell_type": "code",
   "execution_count": 10,
   "id": "2f8e7cf7",
   "metadata": {
    "ExecuteTime": {
     "end_time": "2023-04-18T13:01:26.182578Z",
     "start_time": "2023-04-18T13:00:40.896572Z"
    },
    "scrolled": true
   },
   "outputs": [
    {
     "name": "stdout",
     "output_type": "stream",
     "text": [
      "Enter weight in kg: 100\n",
      "Enter quantity: 10\n",
      "Enter Freight BWP: 1000\n"
     ]
    },
    {
     "name": "stderr",
     "output_type": "stream",
     "text": [
      "C:\\ProgramData\\anaconda3\\lib\\site-packages\\sklearn\\base.py:420: UserWarning: X does not have valid feature names, but LinearRegression was fitted with feature names\n",
      "  warnings.warn(\n"
     ]
    },
    {
     "name": "stdout",
     "output_type": "stream",
     "text": [
      "Estimate of the best price quote by freight forwarders: [820.57435001] BWP\n",
      "Enter origin country: China\n",
      "Enter destination country: Botswana\n",
      "The input corresponds to cluster 2\n",
      "List freight forwarders who service the route:\n",
      "['YIWU BORZ E-COMMERCE CO LTD'\n",
      " 'MAANSHAN YINGKAI INTERNATIONAL TRADING COMPANY LIMITED'\n",
      " 'YIWUBORZ E-COMMERCE CO LTD']\n"
     ]
    }
   ],
   "source": [
    "# Get input from user for weight, quantity, and other parameters\n",
    "weight = float(input(\"Enter weight in kg: \"))\n",
    "quantity = int(input(\"Enter quantity: \"))\n",
    "# Add more parameters as required\n",
    "quantity= float(input(\"Enter Freight BWP: \"))\n",
    "# Calculate the estimated cost of freight based on the input\n",
    "new_data = [[weight,quantity,quantity]]\n",
    "estimated_cost = reg.predict(new_data)\n",
    "# Display the estimated cost of freight\n",
    "print(f\"Estimate of the best price quote by freight forwarders: {estimated_cost} BWP\")\n",
    "\n",
    "\n",
    "# Get input from user and validate it\n",
    "while True:\n",
    "    origin_country = input(\"Enter origin country: \")\n",
    "    if origin_country in country_dict:\n",
    "        break\n",
    "    else:\n",
    "        print(\"Invalid country name. Please enter a valid country name.\")\n",
    "\n",
    "while True:\n",
    "    destination_country = input(\"Enter destination country: \")\n",
    "    if destination_country in destination_country_dict:\n",
    "        break\n",
    "    else:\n",
    "        print(\"Invalid country name. Please enter a valid country name.\")\n",
    "\n",
    "# Encode the user input using the country dictionary\n",
    "origin_country_encoded = country_dict[origin_country]\n",
    "destination_country_encoded = destination_country_dict[destination_country]\n",
    "# Predict the cluster for the user input\n",
    "user_cluster = kmeans.predict([[origin_country_encoded, destination_country_encoded]])[0]\n",
    "print(f\"The input corresponds to cluster {user_cluster + 1}\")\n",
    "\n",
    "# List the freight forwarders that service the predicted cluster\n",
    "cluster = df[df['Cluster'] == user_cluster]\n",
    "print(\"List freight forwarders who service the route:\")\n",
    "print(cluster['Exporter'].unique())"
   ]
  },
  {
   "cell_type": "code",
   "execution_count": null,
   "id": "cdd359e1",
   "metadata": {},
   "outputs": [],
   "source": []
  },
  {
   "cell_type": "code",
   "execution_count": null,
   "id": "04aa575d",
   "metadata": {},
   "outputs": [],
   "source": []
  },
  {
   "cell_type": "code",
   "execution_count": null,
   "id": "0772cde8",
   "metadata": {},
   "outputs": [],
   "source": []
  },
  {
   "cell_type": "code",
   "execution_count": null,
   "id": "e364e138",
   "metadata": {},
   "outputs": [],
   "source": []
  },
  {
   "cell_type": "code",
   "execution_count": null,
   "id": "6c7fddc2",
   "metadata": {},
   "outputs": [],
   "source": []
  }
 ],
 "metadata": {
  "kernelspec": {
   "display_name": "Python 3 (ipykernel)",
   "language": "python",
   "name": "python3"
  },
  "language_info": {
   "codemirror_mode": {
    "name": "ipython",
    "version": 3
   },
   "file_extension": ".py",
   "mimetype": "text/x-python",
   "name": "python",
   "nbconvert_exporter": "python",
   "pygments_lexer": "ipython3",
   "version": "3.10.9"
  }
 },
 "nbformat": 4,
 "nbformat_minor": 5
}
